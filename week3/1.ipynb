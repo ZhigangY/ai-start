{
 "cells": [
  {
   "cell_type": "markdown",
   "metadata": {
    "id": "H_D9kG_efts3"
   },
   "source": [
    "# Transformers 模型量化技术：GPTQ"
   ]
  },
  {
   "cell_type": "markdown",
   "metadata": {
    "id": "X7rrVrEFMGiu"
   },
   "source": [
    "![image](https://huggingface.co/datasets/huggingface/documentation-images/resolve/main/blog/159_autogptq_transformers/thumbnail.jpg)"
   ]
  },
  {
   "cell_type": "markdown",
   "metadata": {
    "id": "Wwsg6nCwoThm"
   },
   "source": [
    "2022年，Frantar等人发表了论文 [GPTQ：Accurate Post-Training Quantization for Generative Pre-trained Transformers](https://arxiv.org/abs/2210.17323)。\n",
    "\n",
    "这篇论文详细介绍了一种训练后量化算法，适用于所有通用的预训练 Transformer模型，同时只有微小的性能下降。\n",
    "\n",
    "GPTQ算法需要通过对量化模型进行推理来校准模型的量化权重。详细的量化算法在[原始论文](https://arxiv.org/pdf/2210.17323.pdf)中有描述。\n",
    "\n",
    "基于[`auto-gptq`](https://github.com/PanQiWei/AutoGPTQ.git) 开源实现库，transformers 支持使用GPTQ算法量化的模型。"
   ]
  },
  {
   "cell_type": "markdown",
   "metadata": {
    "id": "L2ZTO3OSoL5T"
   },
   "source": [
    "## 使用 GPTQ 量化模型\n",
    "\n",
    "为了使用 `auto-gptq` 库量化一个模型，我们需要向量化器传递一个数据集。\n",
    "\n",
    "通常有两种方式构造数据集：\n",
    "- 量化器支持的默认数据集（包括`['wikitext2','c4','c4-new','ptb','ptb-new']`）\n",
    "- 一个字符串列表（这些字符串将被用作数据集）"
   ]
  },
  {
   "cell_type": "markdown",
   "metadata": {
    "id": "4_DJf_pA-lnq"
   },
   "source": [
    "### 使用 GPTQ 算法支持的默认数据集来量化"
   ]
  },
  {
   "cell_type": "markdown",
   "metadata": {
    "id": "-H2019RkoiM-"
   },
   "source": [
    "在下面的示例中，让我们尝试使用`\"wikitext2\"`数据集将模型量化为4位精度。支持的精度有`[2, 4, 6, 8]`。"
   ]
  },
  {
   "cell_type": "markdown",
   "metadata": {},
   "source": [
    "## Homework 修改量化数据集为facebook/opt-6.7b"
   ]
  },
  {
   "cell_type": "code",
   "execution_count": 1,
   "metadata": {
    "colab": {
     "base_uri": "https://localhost:8080/",
     "height": 468,
     "referenced_widgets": [
      "1880cdb18a7d438b8f76a2cf9d71b061",
      "3bc570100f374fca872d5f82ecb37c7c",
      "d68ff07b13044cd399d4982e6cb0e069",
      "86b65ec3d9054ff881a0110b3d07ce69",
      "a2712a9a39994d90989dea9cb0b5c549",
      "e6d6441389194757b047883c82795285",
      "5134b285e9d74fe394de3b0df4378a24",
      "6752ba954639416e94281eb3153d5ce6",
      "d281d0eee6fc47bf8ffae0a65b2844ef",
      "726e065027fe4692afc636472cc25a53",
      "1b9052ea55544078b369a88abe942a17",
      "d1f4c0fb1c8e44378a0e330d7aaf9b82",
      "2e6da10e20044181a102ec0509395075",
      "6f6780be37554de486ad2aa0c1079d08",
      "71c3a1a84487461bb16140e140f831a0",
      "92d77b8cdda142edb18e7925823f135b",
      "4f6f0bae65914ab69764932a811cdff1",
      "81a48c0fbbc548408a06eee2bb15cd98",
      "a9f229101e6a49eda5a2ecc62145781d",
      "181c67b7ca484b98a978630affcb7ddf",
      "f4292ce6c4f24dcb87be0b51935df8a2",
      "822286c9eb8d4cf1ae0200636cf015e5",
      "2ef116f4253e417fb461df6b79184692",
      "0326aff6a1854b35b0ad92f6836e7792",
      "b898db732a6d4f6a9001862c6d54fa45",
      "8970a6f89004494a9d9b7fe0c26e8b3d",
      "dae852e6cb354003a1a09d49ea19be71",
      "18338d52e9f2491b9820d531c8a410a1",
      "5989e3e43e204120a4073284986b4789",
      "b24d7b14fe6b482e9d2a36c123d73c1d",
      "e1c6b64a39ae422eb350fdee2cb79d68",
      "8e418b79775141c6839ec7ce366eede6",
      "ae6019d6385745978e18d3df6899ca75",
      "f4efacc1846545afa43850b3b9a0c701",
      "3a803fa0c5a94f3c9a7481603c024cbf",
      "d980cdfae6e5407c92c78d670f527dbf",
      "ab0d119687824938b0d5b6b5207806b2",
      "b3403daded6a4d37823d8ad758acca57",
      "590144bdfd824514b8603e50c00aa1d0",
      "ad530f96f2504ff5b8f14026d1cc34f9",
      "dbe1daa0ba564c189e6479d15166559e",
      "311246c2547548aead7033adec0cbd64",
      "132668df180e4ddf86fc23f19cdf913c",
      "5194d9be91eb45a2988eb17dffeb27b9",
      "cbc2319120e74be38cd38301a59e0ea5",
      "33874bd1cce04305b75ad9044f08dc4d",
      "cddef3367b62419abd4b7ae138d0d618",
      "7ead5371f54549f5819901ea2c262bac",
      "3fe09d88876d425db9c6c1706e76dc12",
      "dfdc242b63574f2eb0cc2370e441545e",
      "e21e50fd996549e79f3e630ac8abd9fe",
      "577bb7b27be04a47ab22bceec7ebe41b",
      "c0c02663859d49a59a927dad1c02fc89",
      "00ac2a926c0c460fa643e157b254b649",
      "9853c963f7de43f1a8840b7f6405e972",
      "8b7f95359d284c349bf2577a18c015cf",
      "2a6f4e0b10c84365a9ceb8478197aa94",
      "b50ad1c48bdb444f936bf6eb9ef16f32",
      "fc8549f4ce2d44679d71702c6c6831c1",
      "fe3730f721c1441897b0a8e1f1e82764",
      "392786affd2441a3b5e8f274eb0c903a",
      "2f06776b9fe647b28f3dd67734d0fa4b",
      "77aaa5569c2344f4844fdad5ce90f8a9",
      "16edfc3a246540b8a547a1f9ce51c0d1",
      "81d3c059e19341a5a120657ffdf1fc28",
      "375445fc761e44ccb33779e9ec60fe71",
      "4f81d19cb86849d59dfaebfbe2a10eea",
      "85dbd059e38343fbb38bf36006f3c9e1",
      "d2440685af434c9d927e9d810a6b423c",
      "6229c5c5d6184bc3b2af59edb4ee5599",
      "72bfadacbf154af0a637450035c65c42",
      "ecd42cbb519b4dfc8013dd72897b62c2",
      "4a673ed256864c3c82c4392cb7b6b261",
      "a69497b9c323430fae0b179d742993e1",
      "12f851dee22d4bffae5ae2c1126ec291",
      "369230435faf4320b05862e330cd2742",
      "c986acc6b50d4f4a9d27ee24e405e0d9",
      "566f2b9b1bef400d8f40f7498b3df8af",
      "fa5eebfd4c6a44f4abc6c171b3bdb4bf",
      "609349a1c50346b7955da961d0f4a9ab",
      "ead76ed1e47b47b38d015e58791e87cf",
      "c922bbbeed854f3fbbf3e324b0725bfe",
      "28ec0d5c26e24b0ba4d6ffb7222d7040",
      "bb382755558f41b8ac6b83d47dc0c06f",
      "a8a6b5b41d85461c8aaa7e7035dea8a3",
      "b9921b8bfbae426aba2bf658d3c5a5ff",
      "7f75ae4dd3164387b6128dcad4d8619b",
      "2b4f2f4516f04bb3b6a4f3aea71fdfac",
      "c7f13e84feaf44d694f70395a1fed7b3",
      "bbefcb7d560245f0b945741bb059d9e2",
      "8fefab0d44ab459ba870b91088901cc3",
      "ea42b0c8afba43ef83952ff1275357bc",
      "7257323c093d4aecad16b1c73963d99d",
      "be07ced9b72d417c9ef860f05205819d",
      "8cfb78d32c9d495384a37f2adad4f214",
      "c8c62f2212524da5ad8d15120a5994af",
      "720906051c7d4ba9be711d4dd265a237",
      "e0f9e91b03e641358461f2d910d2ffcc",
      "b41570ee27f14e0bad1364f5176976ea",
      "ff74dc2286464c7b8884c4702bdae74a",
      "5a54f4b13eb94d01bd769c5d48c94729",
      "cf9710af4c6c44e6bede27461724e6d2",
      "8c3a3257917a4c32b310146a447a7c54",
      "7df99f335e634352a6960e0966b57696",
      "8fe1cfba38a34a3d99b23d05cdd181d3",
      "cb18da2d2b8c41f1823b1689a8962179",
      "5a5ac3f8776f4372925fe601c63be684",
      "ec5b09e8599444e6ae9b22654f479f83",
      "f0f405585d184647afe9faf9a8f12bdc",
      "9cff1286ba114ac195600f89142c38f8",
      "af41858510eb478d8d9c69f8947c5261",
      "dcbc3809225c4c9485b5b680281a727f",
      "34e740eb3dd549d988d0b8c704f221d1",
      "d6ba78ca0f6f4e97b924b67d6da365db",
      "2fe019ca9a944f5fb73da1dd82c5579a",
      "b22a80bb6ed54aa988dfabc09c164794",
      "221f1d6f10774d5397ae21ecba375e99",
      "4c833e48ebc7486aa922e4b67782df18",
      "f82cf57aa6a74e8f85c233c63510588a",
      "ab73fb1b09904e389025fdc764830e24",
      "1e9b517d49354f3c8b722413267d9ba1",
      "c9ab1ea09ddc45db9c649bb0db4d4f4b",
      "2dec347917aa43a4af74869cb0d0751b",
      "526735fa31114c58b4e03f4648c59988",
      "9f4d37d31cc24e13a88548be94cb8dd5",
      "3a9d93fccc554551a5339936ff37f4f7",
      "5dbc8d8b58a7451aa442923587113e27",
      "381f6d6fc4e14b639d848c2321df9aea",
      "07cd986bd7bf4b2e91df6361df5e8cd2",
      "1c590dd7fd2d4b87a02e56a73e8c6cd2",
      "af8fb5b3924f4a148309b262fb31bcc5",
      "0e9bf4e276674429be46e818d6291a87",
      "097f3a4779a74e3180f66560b0347538",
      "f48fa46b4275460eb8c9092a9797ab2a",
      "ef0792efd8b64317b2cbf0e6c2504306",
      "39ae5f7f27204a6b9fcda0b716998417",
      "5cd2d916a67742b28be710135bdbe3fa",
      "0e1b96fb7a08458e801c3b162789b5bb",
      "6647de8a3df94a278d108144c64d969e",
      "286cb3c79d8747b9b1e5de3ab1aff4d5",
      "95080788a5424cd597e2c5c204535ff0",
      "891a9558c5804916a033fee94d06599c",
      "b49e5c81472d4aa895799d70890d61b6",
      "0f5c4ef239d44c02a9c1c53117c12fbc",
      "c2ce4fb2bea342b6b02635d1adc63b96",
      "ca2cdea1d81f4671ad2d4d0a1147f931",
      "f6bb7d77160b481d939c9faa21f61f49",
      "497b8e88c1534c879166fc1b0ecb4184",
      "77cfbcec7a39470ab8d142cd67dcc676",
      "bd159193f35e43aca8ad6244c497ac44",
      "c2028ebe67824dee9932c196679c6920",
      "2a121a81a37943bf99d3cd92e961cedc",
      "9876d27262c6400b88416dd43f3f6c4f",
      "8f4991db20864f48aa025c0f75b4b621",
      "17a4f65808b94b7cb637a4ddddd227e5",
      "c352f759377b4a8ca3bad246dc1a2dca",
      "598e4fa641ec491ebb5f26122ada5d6b",
      "6736dd8ceb3b4aca9ab0b938614f9075",
      "f68b5eead14e4b3a811afc3cb9f57ed8",
      "80952a605cc0468b9e6fb429ed299539",
      "5cf71707e6384f36a8dc8856e6c7b39c",
      "f0be42152fe743efafef518a061aba25",
      "545ab0836c0a43b5b5745f23ff798958",
      "f4494dd20e43415a8016b0fdeb242cff",
      "7956965b0d234142a07f2c1335f19428",
      "6388485b85b241d6839a1addc0004d81",
      "3beeabc17cdd4d30b1c1384d3ff23e7b",
      "d4a027ebea7c425c86f51e1bb55926c5",
      "0aa92a076cac40f7bc17a72490455968",
      "5530b0a841fe4820845e48558fdb994a",
      "249ec68bb4a34a1299dfbf2bc00d3813",
      "0323969428f04db7bb8df5a44b2020e5",
      "dda41887c13d445289fe0068bc640545",
      "830d39cf23b14b538282da200adfc71a",
      "1bc543af85e440649fa963bcb5083b55",
      "4c5d443d664b473faea1c8098d1e8ce3",
      "31518489c13b4039a9fc03ca0fffa933",
      "65da4d3df6c44299b97a7cefc137d2ef",
      "68da191926d44c60bf7e91f253c97ab9",
      "79f62289aeaa45ad9241e5046970a56a",
      "b058e34960e941e3aebc8f61b1fd5cda",
      "ceafeec551f543039d7d1d953c2d54d4",
      "87b19fdbd10147638fc14c91f14403b9",
      "12cb229b02ed443da4305af5f1742531",
      "1f44c06e2aa44422a542c3a608b45808",
      "ba269ea147324c7c9ee419e2d99045bf",
      "5d47b0910292477fb9f10462d1fa831b",
      "235090a2c98c4a9484f4988cf7f003f5",
      "38b6d0e2c6db4feabee91af07a88ec3c",
      "a31e6da7013643c48a7225726313fa55",
      "1a2818686dd44374a54f3aaf439e37b3",
      "c314f57a0b0b451aad29e9fbde5385e1",
      "946f1b4aff26458493e270bbb4136d75",
      "cbc18ed207314bfabfa9cccc975c146f",
      "4d2c30c3d9c14ccaba8434993e049c97",
      "bce94beb47834bcea253a6b5bf12b435",
      "c59bdca7575d4c9d9b1cb4f80dc130a7",
      "a39c7540f3ca44aeac2e7484579588b0",
      "2b4c09e0dae64e76b7b9b47d2d382b25",
      "3358d452584644e6b6bb31c52f7c5371",
      "93016a890b3d43c583a1927d1e59f2a2",
      "0fbd48759430447fb4ab05fb0d7467a6",
      "13511c3ee3364f2e9d94621f20ca7328",
      "c6fb60096ed9409cacbce03d86eced11",
      "f031d1805c76486f82a9d0f8e6a1aa9f",
      "4240fd28cec94147aedeae6ac48cf50b",
      "814d245033494cd4b96829fb130bd3e0",
      "94ca2181c5a844f9b0002a12cf8c02d1",
      "2a22739f4d2148fcb70a137ec7f3702b",
      "dff3485601944cc1a4956708ba5288e9",
      "f3416ca9de19408abed068da001dba95",
      "4a7bf23d815b4e478ba8667214f7dccc",
      "a5dbede577d14b94a9d26aff86c8ce2e",
      "888a1231ca4c47f89008113d36712390",
      "2bc16b4e785644d88c7325ac1f4dcf4e",
      "612bd4ef0b75466badfa63654d017eec",
      "f54145d621cd4df8be0e80da4dac13bb",
      "35f1ed92b3ff428ea74ea3395aada797",
      "af6d993d60d44fed90601e1288f90867",
      "7ee1819aa09a4ba7b204f4b6683bcd9e",
      "0bc89951f2b24688931fc8b14610cf7e",
      "c7f066cde8824f1ea5c155e1b2b8b33b",
      "e6d3859f4e424c569e52b97289a7cb25",
      "b5261f2aacbf473688d14ea34c017899",
      "f63c36a82f7e4ef1b023f5049304c7e1",
      "d899fd79ab434f4ea0400cfdd37716f2",
      "60c2919930bb4fa0aa85af4a1296a7bb",
      "61ce448e5d344ca0a3b01e7e5c3ee15c",
      "7c3c78d176e341a4add7dd15d3bfeb2c",
      "fb8ce606d501414cbb0ab353326f13bc",
      "3d1a5e881bd34a1291edef34cd77a629",
      "da795b06bb414b6a8a45b2a546fbc68d",
      "da5e019c5a5346c9a4093d1ead8912b6",
      "cf6e275b025443b5a20dc9d627297d0b",
      "ac42fda6d5154e81a393c94ad658a46a",
      "4eda0df91473445e983deedd58ab2983",
      "1118675d45c444368cae2473d866057b",
      "991b0a14377246d6b299241bf0f6ead3",
      "8db8b51a3e5d43ee9b78ce809b451a09",
      "911af1b0fe304b7482d945c025ecdf74",
      "eced428220be4f0e82f13d0e76d618cd",
      "6d3ff118b32840a891d5b7e1cbd9fce7",
      "555aed75863b4637aa8174e4ec8a76b2",
      "fd5b5608909d40e8b9eb8241c01b223b",
      "ce7914f77e8a4398838a5667f0df0582",
      "1587ceae6a5a4d8b9fa9ea1f1081d113",
      "826bf7e8f20d4876a53a26de5018acd0",
      "f0fbd37b109d4778837aba5ddf27ba1a",
      "156a2ae5a8664526835d6e23274bf46a",
      "2a86b9d9bfbf4cc8ac46cce25c3b01c2",
      "27beeda60e2144ba82b52533234f274d",
      "07740f4a064c4d82bb86a1ee20ea9fca",
      "879c6c9a602647aa954ecca70c795557",
      "077cba201cbf436dac4ff29df159bcf2",
      "8d0e189719ef4ed39ade7ca1b660e354",
      "b8aa181525924e37b302900688a3341b",
      "fd5fcf2072df4f6aa5571dbf00297e4d",
      "058e321ee0a74cee899b0a7ee5e85dd0",
      "7ee12dfce54040988ab9223ca81b5c8f",
      "37a044abaa6843a69ab8f183937e564e",
      "a0ef8976938446378d9d79f4336c9ec0",
      "1492496deaeb44278442b6db0a2a3d26",
      "7e47af150fb4406593a92f3428bc9f6b",
      "c58046d2e6844ecd856daa5eec19b197",
      "cd3e9031b41e49b19ef10837975b831e",
      "59d34d17db45411fb37c1203fb7c9735",
      "9c8008fda5934608aad96cb82e73a384",
      "f6fffe1f25a24fa599ede7603eabba7f",
      "77684995463340e29a20da2ab825ef43",
      "22dd1e8e03e94fb89b1415986125ad19",
      "24755e3625284e8080444420266454af",
      "85137b58cc40482daa65e95c75efe090",
      "c4ac94030e534f54927d0e1bbab354ad",
      "98060f217abc4f03bf70ec32488456d9",
      "4504cda13d4241858ac49c8e9b8611d6"
     ]
    },
    "id": "gEdeadOEoRzq",
    "outputId": "f9943b07-f19e-4f41-9063-21710fbee8af"
   },
   "outputs": [],
   "source": [
    "from transformers import AutoModelForCausalLM, AutoTokenizer, GPTQConfig\n",
    "import torch\n",
    "#facebook/opt-6.7b\n",
    "model_name_or_path = \"facebook/opt-6.7b\"\n",
    "\n",
    "quantization_config = GPTQConfig(\n",
    "     bits=4, # 量化精度\n",
    "     group_size=128,\n",
    "     dataset=\"wikitext2\",\n",
    "     desc_act=False,\n",
    ")"
   ]
  },
  {
   "cell_type": "markdown",
   "metadata": {},
   "source": [
    "#### 逐层量化\n",
    "\n",
    "关于 `CUDA extension not installed` 的说明: https://github.com/AutoGPTQ/AutoGPTQ/issues/249"
   ]
  },
  {
   "cell_type": "code",
   "execution_count": 2,
   "metadata": {},
   "outputs": [
    {
     "name": "stderr",
     "output_type": "stream",
     "text": [
      "/root/anaconda3/envs/tf1/lib/python3.11/site-packages/huggingface_hub/file_download.py:943: FutureWarning: `resume_download` is deprecated and will be removed in version 1.0.0. Downloads always resume when possible. If you want to force a new download, use `force_download=True`.\n",
      "  warnings.warn(\n",
      "CUDA extension not installed.\n",
      "CUDA extension not installed.\n",
      "/root/anaconda3/envs/tf1/lib/python3.11/site-packages/huggingface_hub/file_download.py:943: FutureWarning: `resume_download` is deprecated and will be removed in version 1.0.0. Downloads always resume when possible. If you want to force a new download, use `force_download=True`.\n",
      "  warnings.warn(\n"
     ]
    },
    {
     "data": {
      "application/vnd.jupyter.widget-view+json": {
       "model_id": "307d8ba74daf4a2a82e7e49cf59fa356",
       "version_major": 2,
       "version_minor": 0
      },
      "text/plain": [
       "Loading checkpoint shards:   0%|          | 0/2 [00:00<?, ?it/s]"
      ]
     },
     "metadata": {},
     "output_type": "display_data"
    },
    {
     "data": {
      "application/vnd.jupyter.widget-view+json": {
       "model_id": "d9598ed7eea14c8d966fc1d93b439217",
       "version_major": 2,
       "version_minor": 0
      },
      "text/plain": [
       "Downloading readme: 0.00B [00:00, ?B/s]"
      ]
     },
     "metadata": {},
     "output_type": "display_data"
    },
    {
     "data": {
      "application/vnd.jupyter.widget-view+json": {
       "model_id": "a01801545d2b4b42ba786919dad09b1b",
       "version_major": 2,
       "version_minor": 0
      },
      "text/plain": [
       "Downloading data:   0%|          | 0.00/733k [00:00<?, ?B/s]"
      ]
     },
     "metadata": {},
     "output_type": "display_data"
    },
    {
     "data": {
      "application/vnd.jupyter.widget-view+json": {
       "model_id": "73025a134de54c75bcdd9606e01b21b2",
       "version_major": 2,
       "version_minor": 0
      },
      "text/plain": [
       "Downloading data:   0%|          | 0.00/6.36M [00:00<?, ?B/s]"
      ]
     },
     "metadata": {},
     "output_type": "display_data"
    },
    {
     "data": {
      "application/vnd.jupyter.widget-view+json": {
       "model_id": "ab9bb103abef49b29b2f6c33dd621c73",
       "version_major": 2,
       "version_minor": 0
      },
      "text/plain": [
       "Downloading data:   0%|          | 0.00/657k [00:00<?, ?B/s]"
      ]
     },
     "metadata": {},
     "output_type": "display_data"
    },
    {
     "data": {
      "application/vnd.jupyter.widget-view+json": {
       "model_id": "221ec88b2e164bec9f193df5dab5c41e",
       "version_major": 2,
       "version_minor": 0
      },
      "text/plain": [
       "Generating test split:   0%|          | 0/4358 [00:00<?, ? examples/s]"
      ]
     },
     "metadata": {},
     "output_type": "display_data"
    },
    {
     "data": {
      "application/vnd.jupyter.widget-view+json": {
       "model_id": "706be8854f2c41e8955927345eb5fc40",
       "version_major": 2,
       "version_minor": 0
      },
      "text/plain": [
       "Generating train split:   0%|          | 0/36718 [00:00<?, ? examples/s]"
      ]
     },
     "metadata": {},
     "output_type": "display_data"
    },
    {
     "data": {
      "application/vnd.jupyter.widget-view+json": {
       "model_id": "96916589f9924771929469463fac8563",
       "version_major": 2,
       "version_minor": 0
      },
      "text/plain": [
       "Generating validation split:   0%|          | 0/3760 [00:00<?, ? examples/s]"
      ]
     },
     "metadata": {},
     "output_type": "display_data"
    },
    {
     "data": {
      "application/vnd.jupyter.widget-view+json": {
       "model_id": "43d71483903f4d79a8a7e5a9a8dfcc70",
       "version_major": 2,
       "version_minor": 0
      },
      "text/plain": [
       "Quantizing model.decoder.layers blocks :   0%|          | 0/32 [00:00<?, ?it/s]"
      ]
     },
     "metadata": {},
     "output_type": "display_data"
    },
    {
     "data": {
      "application/vnd.jupyter.widget-view+json": {
       "model_id": "2cee621d8d3048b8b81dd0df50571067",
       "version_major": 2,
       "version_minor": 0
      },
      "text/plain": [
       "Quantizing layers inside the block:   0%|          | 0/6 [00:00<?, ?it/s]"
      ]
     },
     "metadata": {},
     "output_type": "display_data"
    },
    {
     "data": {
      "application/vnd.jupyter.widget-view+json": {
       "model_id": "e2cc8a73a8d94f378fbf23d071ca7c4c",
       "version_major": 2,
       "version_minor": 0
      },
      "text/plain": [
       "Quantizing layers inside the block:   0%|          | 0/6 [00:00<?, ?it/s]"
      ]
     },
     "metadata": {},
     "output_type": "display_data"
    },
    {
     "data": {
      "application/vnd.jupyter.widget-view+json": {
       "model_id": "32d5a70b69194d6b98bbeb17ad2b420a",
       "version_major": 2,
       "version_minor": 0
      },
      "text/plain": [
       "Quantizing layers inside the block:   0%|          | 0/6 [00:00<?, ?it/s]"
      ]
     },
     "metadata": {},
     "output_type": "display_data"
    },
    {
     "data": {
      "application/vnd.jupyter.widget-view+json": {
       "model_id": "18cf0d6319f040bdbf5b9504b12920d0",
       "version_major": 2,
       "version_minor": 0
      },
      "text/plain": [
       "Quantizing layers inside the block:   0%|          | 0/6 [00:00<?, ?it/s]"
      ]
     },
     "metadata": {},
     "output_type": "display_data"
    },
    {
     "data": {
      "application/vnd.jupyter.widget-view+json": {
       "model_id": "d7d623b395be46acb658d009345671f2",
       "version_major": 2,
       "version_minor": 0
      },
      "text/plain": [
       "Quantizing layers inside the block:   0%|          | 0/6 [00:00<?, ?it/s]"
      ]
     },
     "metadata": {},
     "output_type": "display_data"
    },
    {
     "data": {
      "application/vnd.jupyter.widget-view+json": {
       "model_id": "2f03c231450d42a5968f2ca3877fb623",
       "version_major": 2,
       "version_minor": 0
      },
      "text/plain": [
       "Quantizing layers inside the block:   0%|          | 0/6 [00:00<?, ?it/s]"
      ]
     },
     "metadata": {},
     "output_type": "display_data"
    },
    {
     "data": {
      "application/vnd.jupyter.widget-view+json": {
       "model_id": "549ed144675f46d7a28135399f55f6c5",
       "version_major": 2,
       "version_minor": 0
      },
      "text/plain": [
       "Quantizing layers inside the block:   0%|          | 0/6 [00:00<?, ?it/s]"
      ]
     },
     "metadata": {},
     "output_type": "display_data"
    },
    {
     "data": {
      "application/vnd.jupyter.widget-view+json": {
       "model_id": "8a126ece55b4431d915bf5983303b552",
       "version_major": 2,
       "version_minor": 0
      },
      "text/plain": [
       "Quantizing layers inside the block:   0%|          | 0/6 [00:00<?, ?it/s]"
      ]
     },
     "metadata": {},
     "output_type": "display_data"
    },
    {
     "data": {
      "application/vnd.jupyter.widget-view+json": {
       "model_id": "e4abcf3993814cc39ce7793dfbea877a",
       "version_major": 2,
       "version_minor": 0
      },
      "text/plain": [
       "Quantizing layers inside the block:   0%|          | 0/6 [00:00<?, ?it/s]"
      ]
     },
     "metadata": {},
     "output_type": "display_data"
    },
    {
     "data": {
      "application/vnd.jupyter.widget-view+json": {
       "model_id": "19c0970b837b4cac9248bd7c6b3b2cf1",
       "version_major": 2,
       "version_minor": 0
      },
      "text/plain": [
       "Quantizing layers inside the block:   0%|          | 0/6 [00:00<?, ?it/s]"
      ]
     },
     "metadata": {},
     "output_type": "display_data"
    },
    {
     "data": {
      "application/vnd.jupyter.widget-view+json": {
       "model_id": "df46b4dc85314583882f8374c6d9dd2c",
       "version_major": 2,
       "version_minor": 0
      },
      "text/plain": [
       "Quantizing layers inside the block:   0%|          | 0/6 [00:00<?, ?it/s]"
      ]
     },
     "metadata": {},
     "output_type": "display_data"
    },
    {
     "data": {
      "application/vnd.jupyter.widget-view+json": {
       "model_id": "b696dea882bc45df801ba46b87bad2c7",
       "version_major": 2,
       "version_minor": 0
      },
      "text/plain": [
       "Quantizing layers inside the block:   0%|          | 0/6 [00:00<?, ?it/s]"
      ]
     },
     "metadata": {},
     "output_type": "display_data"
    },
    {
     "data": {
      "application/vnd.jupyter.widget-view+json": {
       "model_id": "fbd48f08093c4859b2faf841890791e7",
       "version_major": 2,
       "version_minor": 0
      },
      "text/plain": [
       "Quantizing layers inside the block:   0%|          | 0/6 [00:00<?, ?it/s]"
      ]
     },
     "metadata": {},
     "output_type": "display_data"
    },
    {
     "data": {
      "application/vnd.jupyter.widget-view+json": {
       "model_id": "1acc25456b85403e8c67fbeb6ee2f836",
       "version_major": 2,
       "version_minor": 0
      },
      "text/plain": [
       "Quantizing layers inside the block:   0%|          | 0/6 [00:00<?, ?it/s]"
      ]
     },
     "metadata": {},
     "output_type": "display_data"
    },
    {
     "data": {
      "application/vnd.jupyter.widget-view+json": {
       "model_id": "b54b99b5e06640e681ae86fe6220bcb2",
       "version_major": 2,
       "version_minor": 0
      },
      "text/plain": [
       "Quantizing layers inside the block:   0%|          | 0/6 [00:00<?, ?it/s]"
      ]
     },
     "metadata": {},
     "output_type": "display_data"
    },
    {
     "data": {
      "application/vnd.jupyter.widget-view+json": {
       "model_id": "e11e88307ed6425886e11c45a7306f66",
       "version_major": 2,
       "version_minor": 0
      },
      "text/plain": [
       "Quantizing layers inside the block:   0%|          | 0/6 [00:00<?, ?it/s]"
      ]
     },
     "metadata": {},
     "output_type": "display_data"
    },
    {
     "data": {
      "application/vnd.jupyter.widget-view+json": {
       "model_id": "8743fc03541b492b84fb9704597b3b57",
       "version_major": 2,
       "version_minor": 0
      },
      "text/plain": [
       "Quantizing layers inside the block:   0%|          | 0/6 [00:00<?, ?it/s]"
      ]
     },
     "metadata": {},
     "output_type": "display_data"
    },
    {
     "data": {
      "application/vnd.jupyter.widget-view+json": {
       "model_id": "8ec8c9f0e2f84dacb37861d8ce4a2827",
       "version_major": 2,
       "version_minor": 0
      },
      "text/plain": [
       "Quantizing layers inside the block:   0%|          | 0/6 [00:00<?, ?it/s]"
      ]
     },
     "metadata": {},
     "output_type": "display_data"
    },
    {
     "data": {
      "application/vnd.jupyter.widget-view+json": {
       "model_id": "51859fa0ed444115b28fd0a4bf0782e3",
       "version_major": 2,
       "version_minor": 0
      },
      "text/plain": [
       "Quantizing layers inside the block:   0%|          | 0/6 [00:00<?, ?it/s]"
      ]
     },
     "metadata": {},
     "output_type": "display_data"
    },
    {
     "data": {
      "application/vnd.jupyter.widget-view+json": {
       "model_id": "609171ef20a0489e872bc671a2e21d81",
       "version_major": 2,
       "version_minor": 0
      },
      "text/plain": [
       "Quantizing layers inside the block:   0%|          | 0/6 [00:00<?, ?it/s]"
      ]
     },
     "metadata": {},
     "output_type": "display_data"
    },
    {
     "data": {
      "application/vnd.jupyter.widget-view+json": {
       "model_id": "b7c0d809dcc94873bbb38d0643a7997f",
       "version_major": 2,
       "version_minor": 0
      },
      "text/plain": [
       "Quantizing layers inside the block:   0%|          | 0/6 [00:00<?, ?it/s]"
      ]
     },
     "metadata": {},
     "output_type": "display_data"
    },
    {
     "data": {
      "application/vnd.jupyter.widget-view+json": {
       "model_id": "d2e2f2ca2b0e4907b01e2d72268511c1",
       "version_major": 2,
       "version_minor": 0
      },
      "text/plain": [
       "Quantizing layers inside the block:   0%|          | 0/6 [00:00<?, ?it/s]"
      ]
     },
     "metadata": {},
     "output_type": "display_data"
    },
    {
     "data": {
      "application/vnd.jupyter.widget-view+json": {
       "model_id": "01d09641b3794f379c7b06a9dbf2b3bd",
       "version_major": 2,
       "version_minor": 0
      },
      "text/plain": [
       "Quantizing layers inside the block:   0%|          | 0/6 [00:00<?, ?it/s]"
      ]
     },
     "metadata": {},
     "output_type": "display_data"
    },
    {
     "data": {
      "application/vnd.jupyter.widget-view+json": {
       "model_id": "86285a7a6ef640e48a66edc3946ad374",
       "version_major": 2,
       "version_minor": 0
      },
      "text/plain": [
       "Quantizing layers inside the block:   0%|          | 0/6 [00:00<?, ?it/s]"
      ]
     },
     "metadata": {},
     "output_type": "display_data"
    },
    {
     "data": {
      "application/vnd.jupyter.widget-view+json": {
       "model_id": "36e1db370983499db4fda96ce1336ef3",
       "version_major": 2,
       "version_minor": 0
      },
      "text/plain": [
       "Quantizing layers inside the block:   0%|          | 0/6 [00:00<?, ?it/s]"
      ]
     },
     "metadata": {},
     "output_type": "display_data"
    },
    {
     "data": {
      "application/vnd.jupyter.widget-view+json": {
       "model_id": "6552573de51e44a692a4c0f679d6978d",
       "version_major": 2,
       "version_minor": 0
      },
      "text/plain": [
       "Quantizing layers inside the block:   0%|          | 0/6 [00:00<?, ?it/s]"
      ]
     },
     "metadata": {},
     "output_type": "display_data"
    },
    {
     "data": {
      "application/vnd.jupyter.widget-view+json": {
       "model_id": "9938ce0f0d0b40bba95641cda9743b5f",
       "version_major": 2,
       "version_minor": 0
      },
      "text/plain": [
       "Quantizing layers inside the block:   0%|          | 0/6 [00:00<?, ?it/s]"
      ]
     },
     "metadata": {},
     "output_type": "display_data"
    },
    {
     "data": {
      "application/vnd.jupyter.widget-view+json": {
       "model_id": "1baebfb6bfb241d7babf4ed734ab47d8",
       "version_major": 2,
       "version_minor": 0
      },
      "text/plain": [
       "Quantizing layers inside the block:   0%|          | 0/6 [00:00<?, ?it/s]"
      ]
     },
     "metadata": {},
     "output_type": "display_data"
    },
    {
     "data": {
      "application/vnd.jupyter.widget-view+json": {
       "model_id": "204cae587e164c50902f5bb57d0a53b6",
       "version_major": 2,
       "version_minor": 0
      },
      "text/plain": [
       "Quantizing layers inside the block:   0%|          | 0/6 [00:00<?, ?it/s]"
      ]
     },
     "metadata": {},
     "output_type": "display_data"
    },
    {
     "data": {
      "application/vnd.jupyter.widget-view+json": {
       "model_id": "60cb9815cad748efaa539a0dbeb8eb70",
       "version_major": 2,
       "version_minor": 0
      },
      "text/plain": [
       "Quantizing layers inside the block:   0%|          | 0/6 [00:00<?, ?it/s]"
      ]
     },
     "metadata": {},
     "output_type": "display_data"
    },
    {
     "data": {
      "application/vnd.jupyter.widget-view+json": {
       "model_id": "bce756f47adb47ed9742326fbcdb66d3",
       "version_major": 2,
       "version_minor": 0
      },
      "text/plain": [
       "Quantizing layers inside the block:   0%|          | 0/6 [00:00<?, ?it/s]"
      ]
     },
     "metadata": {},
     "output_type": "display_data"
    },
    {
     "data": {
      "application/vnd.jupyter.widget-view+json": {
       "model_id": "4f3ddee48d9c4e5d8d397436090bb5c2",
       "version_major": 2,
       "version_minor": 0
      },
      "text/plain": [
       "Quantizing layers inside the block:   0%|          | 0/6 [00:00<?, ?it/s]"
      ]
     },
     "metadata": {},
     "output_type": "display_data"
    }
   ],
   "source": [
    "quant_model = AutoModelForCausalLM.from_pretrained(\n",
    "    model_name_or_path,\n",
    "    quantization_config=quantization_config,\n",
    "    device_map='auto')"
   ]
  },
  {
   "cell_type": "markdown",
   "metadata": {
    "id": "1NP3sd8X-QEo"
   },
   "source": [
    "### 检查量化模型正确性\n",
    "\n",
    "通过检查`线性层的属性`来确保模型已正确量化，它们应该包含`qweight`和`qzeros`属性，这些属性应该是`torch.int32`数据类型。"
   ]
  },
  {
   "cell_type": "code",
   "execution_count": 3,
   "metadata": {
    "colab": {
     "base_uri": "https://localhost:8080/"
    },
    "id": "sJRv3bGyZtcB",
    "outputId": "58b886e8-2449-4389-d31b-ca6be9f77054"
   },
   "outputs": [
    {
     "data": {
      "text/plain": [
       "{'training': True,\n",
       " '_parameters': OrderedDict(),\n",
       " '_buffers': OrderedDict([('qweight',\n",
       "               tensor([[-1533367701,  2022282410, -1182414405,  ..., -1537760937,\n",
       "                          968190105, -1218869078],\n",
       "                       [-1973762678, -1990888091,  1451669112,  ...,  1767327094,\n",
       "                         1485273242, -1769109111],\n",
       "                       [ -890521657,  1705355194,  2042256023,  ...,  1401453177,\n",
       "                         -963081656, -1212573545],\n",
       "                       ...,\n",
       "                       [-1192544404,   697191045,  1432856694,  ...,  1967820506,\n",
       "                        -1482119368, -1787262823],\n",
       "                       [-1736931943, -1753576812,  2027985786,  ..., -1757504693,\n",
       "                         2090308806, -1987483739],\n",
       "                       [ 1549191317,  1151064006, -1735993498,  ..., -1317428394,\n",
       "                        -1182375288, -1199925157]], device='cuda:0', dtype=torch.int32)),\n",
       "              ('qzeros',\n",
       "               tensor([[2004318071, 2004318071, 2004318071,  ..., 2004318071, 2004318071,\n",
       "                        2004318071],\n",
       "                       [2004318071, 2004318071, 2004318071,  ..., 2004318071, 2004318071,\n",
       "                        2004318071],\n",
       "                       [2004318071, 2004318071, 2004318071,  ..., 2004318071, 2004318071,\n",
       "                        2004318071],\n",
       "                       ...,\n",
       "                       [2004318071, 2004318071, 2004318071,  ..., 2004318071, 2004318071,\n",
       "                        2004318071],\n",
       "                       [2004318071, 2004318071, 2004318071,  ..., 2004318071, 2004318071,\n",
       "                        2004318071],\n",
       "                       [2004318071, 2004318071, 2004318071,  ..., 2004318071, 2004318071,\n",
       "                        2004318071]], device='cuda:0', dtype=torch.int32)),\n",
       "              ('scales',\n",
       "               tensor([[0.0039, 0.0035, 0.0035,  ..., 0.0030, 0.0028, 0.0044],\n",
       "                       [0.0032, 0.0030, 0.0036,  ..., 0.0034, 0.0028, 0.0033],\n",
       "                       [0.0038, 0.0029, 0.0039,  ..., 0.0043, 0.0025, 0.0035],\n",
       "                       ...,\n",
       "                       [0.0033, 0.0034, 0.0033,  ..., 0.0032, 0.0038, 0.0030],\n",
       "                       [0.0030, 0.0028, 0.0027,  ..., 0.0028, 0.0038, 0.0026],\n",
       "                       [0.0034, 0.0035, 0.0034,  ..., 0.0027, 0.0027, 0.0042]],\n",
       "                      device='cuda:0', dtype=torch.float16)),\n",
       "              ('g_idx',\n",
       "               tensor([ 0,  0,  0,  ..., 31, 31, 31], device='cuda:0', dtype=torch.int32)),\n",
       "              ('bias',\n",
       "               tensor([ 0.0061,  0.0129, -0.0215,  ...,  0.0157, -0.0144,  0.0106],\n",
       "                      device='cuda:0', dtype=torch.float16))]),\n",
       " '_non_persistent_buffers_set': set(),\n",
       " '_backward_pre_hooks': OrderedDict(),\n",
       " '_backward_hooks': OrderedDict(),\n",
       " '_is_full_backward_hook': None,\n",
       " '_forward_hooks': OrderedDict(),\n",
       " '_forward_hooks_with_kwargs': OrderedDict(),\n",
       " '_forward_hooks_always_called': OrderedDict(),\n",
       " '_forward_pre_hooks': OrderedDict(),\n",
       " '_forward_pre_hooks_with_kwargs': OrderedDict(),\n",
       " '_state_dict_hooks': OrderedDict(),\n",
       " '_state_dict_pre_hooks': OrderedDict(),\n",
       " '_load_state_dict_pre_hooks': OrderedDict(),\n",
       " '_load_state_dict_post_hooks': OrderedDict(),\n",
       " '_modules': OrderedDict(),\n",
       " 'infeatures': 4096,\n",
       " 'outfeatures': 4096,\n",
       " 'bits': 4,\n",
       " 'group_size': 128,\n",
       " 'maxq': 15,\n",
       " 'half_indim': 2048,\n",
       " 'use_cuda_fp16': True,\n",
       " 'wf': tensor([[ 0,  4,  8, 12, 16, 20, 24, 28]], dtype=torch.int32),\n",
       " 'kernel_switch_threshold': 128,\n",
       " 'autogptq_cuda_available': False,\n",
       " 'autogptq_cuda': None,\n",
       " 'trainable': False,\n",
       " 'device': device(type='cuda', index=0)}"
      ]
     },
     "execution_count": 3,
     "metadata": {},
     "output_type": "execute_result"
    }
   ],
   "source": [
    "quant_model.model.decoder.layers[0].self_attn.q_proj.__dict__"
   ]
  },
  {
   "cell_type": "code",
   "execution_count": 4,
   "metadata": {},
   "outputs": [],
   "source": [
    "# 保存模型权重\n",
    "quant_model.save_pretrained(\"models/opt-6.7b-gptq\")"
   ]
  },
  {
   "cell_type": "markdown",
   "metadata": {
    "id": "ve_FkzIy-gZ5"
   },
   "source": [
    "#### 使用 GPU 加载模型并生成文本"
   ]
  },
  {
   "cell_type": "code",
   "execution_count": 1,
   "metadata": {},
   "outputs": [],
   "source": [
    "## 重新加载测试\n",
    "from transformers import AutoModelForCausalLM, AutoTokenizer, GPTQConfig\n",
    "import torch\n",
    "\n",
    "model_name_or_path = \"models/opt-6.7b-gptq\""
   ]
  },
  {
   "cell_type": "code",
   "execution_count": 2,
   "metadata": {
    "colab": {
     "base_uri": "https://localhost:8080/"
    },
    "id": "CoXV8zrIuORr",
    "outputId": "44ccab95-8a4e-4d5e-dc25-a90b7bdb5f4f"
   },
   "outputs": [
    {
     "name": "stderr",
     "output_type": "stream",
     "text": [
      "/root/anaconda3/envs/tf1/lib/python3.11/site-packages/huggingface_hub/file_download.py:943: FutureWarning: `resume_download` is deprecated and will be removed in version 1.0.0. Downloads always resume when possible. If you want to force a new download, use `force_download=True`.\n",
      "  warnings.warn(\n",
      "CUDA extension not installed.\n",
      "CUDA extension not installed.\n"
     ]
    },
    {
     "name": "stdout",
     "output_type": "stream",
     "text": [
      "Merry Christmas! I'm glad to see you're still around.\n",
      "I'm still around, just not as much. I'm still here, though.\n"
     ]
    }
   ],
   "source": [
    "tokenizer = AutoTokenizer.from_pretrained(\"facebook/opt-6.7b\")\n",
    "quant_model = AutoModelForCausalLM.from_pretrained(\n",
    "    model_name_or_path,\n",
    "    #quantization_config=quantization_config,\n",
    "    device_map='auto')\n",
    "text = \"Merry Christmas! I'm glad to\"\n",
    "inputs = tokenizer(text, return_tensors=\"pt\").to(0)\n",
    "\n",
    "out = quant_model.generate(**inputs, max_new_tokens=64)\n",
    "print(tokenizer.decode(out[0], skip_special_tokens=True))"
   ]
  },
  {
   "cell_type": "markdown",
   "metadata": {},
   "source": [
    "## 测试中文"
   ]
  },
  {
   "cell_type": "code",
   "execution_count": 3,
   "metadata": {},
   "outputs": [
    {
     "name": "stdout",
     "output_type": "stream",
     "text": [
      "美国关税阴影下，牛肉、鸡蛋等食品价格上涨，推高约1.5%。\n",
      "\n",
      "美国关税阴影下，牛肉、鸡蛋等食品价格上涨，推高约1.5%。\n",
      "\n",
      "美国关税阴影下，牛肉、鸡蛋等食品价格上涨，推高约1.5%。\n",
      "\n",
      "美国关税阴影下，牛肉、鸡蛋等食品价格上涨，推高约1.5%。\n",
      "\n",
      "美国关税阴影下，牛肉、鸡蛋等食品价格上涨，推高约1.5%。\n",
      "\n",
      "美国关税阴影下，牛肉、鸡蛋等食品价格上涨，推高约1.5%。\n",
      "\n",
      "美国关税阴影下，牛肉、鸡蛋等食品价格上涨，推高约1.5%。\n",
      "\n",
      "美国关税阴影下，牛肉、鸡蛋等食品价格上涨，推高约1.5%。\n",
      "\n",
      "美国关税阴影下，牛肉、鸡蛋等食品\n"
     ]
    }
   ],
   "source": [
    "text = \"美国关税阴影下，牛肉、鸡蛋等食品价格上涨，推高\"\n",
    "inputs = tokenizer(text, return_tensors=\"pt\").to(0)\n",
    "\n",
    "out = quant_model.generate(**inputs, max_new_tokens=512)\n",
    "print(tokenizer.decode(out[0], skip_special_tokens=True))"
   ]
  },
  {
   "cell_type": "markdown",
   "metadata": {},
   "source": [
    "### 测试英文"
   ]
  },
  {
   "cell_type": "code",
   "execution_count": 4,
   "metadata": {},
   "outputs": [
    {
     "name": "stdout",
     "output_type": "stream",
     "text": [
      "No one’s born being good at all things. You become good at things  by practicing.\n",
      "I'm not sure I agree with this. I think it's more like you become good at things by being exposed to them.\n",
      "I think you’re right. I think it’s a combination of both.\n"
     ]
    }
   ],
   "source": [
    "#\n",
    "text = \"No one’s born being good at all things. You become good at things \"\n",
    "inputs = tokenizer(text, return_tensors=\"pt\").to(0)\n",
    "\n",
    "out = quant_model.generate(**inputs, max_new_tokens=256)\n",
    "print(tokenizer.decode(out[0], skip_special_tokens=True))"
   ]
  },
  {
   "cell_type": "markdown",
   "metadata": {
    "id": "RhCaFfJ5-k1l"
   },
   "source": [
    "### 使用自定义数据集量化模型（灵活可扩展，前提是准备好数据）"
   ]
  },
  {
   "cell_type": "markdown",
   "metadata": {
    "id": "dN-hRO_vtJTB"
   },
   "source": [
    "下面演示通过传递自定义数据集来量化一个模型。\n",
    "\n",
    "通过字符串列表来自定义一个数据集，建议样本数不少于128（样本数太少会影响模型性能）"
   ]
  },
  {
   "cell_type": "markdown",
   "metadata": {},
   "source": [
    "## Homework 一段话量化"
   ]
  },
  {
   "cell_type": "code",
   "execution_count": 9,
   "metadata": {
    "colab": {
     "base_uri": "https://localhost:8080/",
     "height": 49,
     "referenced_widgets": [
      "0ab7bde0b92841968fa71b22ffbebe1c",
      "36751578752940cc9ba404c99fc14b41",
      "d85b407b163e4b7abef5a51e718b426e",
      "c2fba43c7a234bed8fd8eff7c6b36a36",
      "e134dac18dad49769b2ebe3e307cc338",
      "bb3a7bb7b750407c847442f473f7160b",
      "9777265252974223a79d0618c4aa24a0",
      "59274c0a52e94903b2bbd1fed4fdfd55",
      "857bd9ab953d4250a686b2d284070d2a",
      "e794dc66d63f4232b5123cc37629bc05",
      "7ec731bf4c384c71bda1eea7d8316317",
      "937da7edacf6449ebb385b4c4b1dfe10",
      "4b3915d5308a460dbd7d15577bfefde8",
      "55d1b3efec0f42fbb00f476c378b226f",
      "6dd7e5dc81694bfba669e7bf0aa42783",
      "b8477ab375bf46b78a9ec4a7d5940fd9",
      "3f643806a0354a5aa85204e94b1446cb",
      "fb29b52bb8ce43c38328933429c9afb7",
      "e17778ce3c5e46e5b34ccaea489c78bd",
      "900d13e02f94437d9833e1f509860595",
      "b1e9aedb36794bba930c4a18c07ddde6",
      "5cb1a83242d349258f6db897ccbf0e46",
      "37caa5c2f87b49ecb7dcc72a2e196631",
      "9621285cd96648e4bb2837f6ec93cd3e",
      "9a2f9075179543248aac02b4fa9c1fdc",
      "8397f54e0ef744279f5a8c4835576d67",
      "f89f38ed9af1486aae0d41a3d61a255b",
      "11f5c9ef5e72461fb7183295d4d84651",
      "6d6f504b3a1d4f779f782a119c8aafaa",
      "a07c02affd8d4249a77addb935198abf",
      "67cd9bb2553e4c2a9a7c1b7c1e0c5e6e",
      "666e0e1b409a4422bbca0a9b12ad913e",
      "b0389f61ef8c49d787d371b84a379a46",
      "2977b49938ca409fac192e26cd15387d",
      "b8018cb7edf04da38d54f60a0414b06e",
      "00aa1f7e29964fa2a6dc3b40a15b98b4",
      "f847c737543e4a07a65b0f921a758466",
      "4d56b1f681dc4e24b4cbd7d0adac48bb",
      "21100cb2eda241c38e19b9b97c3b9236",
      "1a937753a018435d946b5540bcbc222d",
      "67fc1ed3f857463894d87439416a4e91",
      "d6107d35a40f41d190af4c3686217fbf",
      "70dd37dcd3a44ac19cacf8a6b0032e3f",
      "1cc78776a4314828b9ee2b555082cd02",
      "dc7133ee7d69431688a8288f91e4899e",
      "ad168bece92545859f3824537b0f37b0",
      "7f0da1ba281b4bec89c98514e67e9ac6",
      "388c126dd14047bb843491a84cfb97e2",
      "252afb9b3f12459d84ffd2884150c41a",
      "e12d606073324a8e9a553f158c47375d",
      "97b863b202a54a5694c92cf1f20d3148",
      "49dae49597be415b879e9b9ed219b775",
      "5542e23a186a4c4a895d8c33b546a8ba",
      "ab84e8ac7ed64151b01c402f3509891c",
      "0d550d5607224e0885d81a0da140f53b",
      "dd4d924ddd714bf193b6cc199e2c859e",
      "5974c453f7fc43bf9ebb11c19141cb46",
      "ccabb8ebb24e4c729bee3a131c9ebe7d",
      "465e6910e42c48f2b6b2b01241a39fcd",
      "5b33a41846494b8d92caba00b8f941cb",
      "6bf7f1257dc2422aa6513aadb6c17ee6",
      "d7bde61fc30545d38a10928d6ffdc376",
      "68da595c4bdd427e99d15663fdaa1143",
      "04e0c55bfc874bf8a1a449854abd4425",
      "8f9609ce11484731aec5631d3e7301be",
      "ccbc82c0a86944a39f67cf10b7f0bd71",
      "dd68838c461046e8818d86e8fe7e2f58",
      "acd12edf35024a079fadb0037227144e",
      "471a52d7eee842f8972e0eb0ae23c526",
      "4e569b2d0a77411ebf13237a8c7ad40c",
      "cf94ccc7acc84241b103e6b25e4638a2",
      "d73b407d0d8242159b3781dd5d777132",
      "4a9faba0086a4c68a116e0a188a39923",
      "7da27e921afb4f26846131911215ffa9",
      "64ed895deed44a22b3f905ff35827594",
      "ac837194821b4857ba309416f613ecc9",
      "bc57681762da4ebbb8ec32fdfedd6d8e",
      "682a8ce4d46c475fbad1028ae585cefd",
      "5af938ec5a594403b43b6e3c4095317d",
      "4d5bfc0512484d5985c9abcff771263a",
      "f1b9812d7a57447db0f9824c4559974e",
      "48c045c58ac0441a89a23ddf82a3acbe",
      "c624fc647d3449b79ef21b906e9c6381",
      "31ee41398ae5417493cf8ac83a30bb1e",
      "f571ee0fa3d24bb4a580e50f5c398932",
      "05e88750214d4b5ba62010d30f3a1a78",
      "50a9a51f5d7841bc88352ec8f425a559",
      "4059ff7af30d46bb870fb84ee2f6b650",
      "81928d041e8443549350d214f2dfc9af",
      "904e43a821e8419ebe331d3ac503b678",
      "6f87a2f3247f47c0aee5cc32fbed260a",
      "608f98e5234341fa8c2e6ff4f396bfb2",
      "20db1586662343f58c4ff095863291eb",
      "d87db9a2b0914030ba2a6d7e6f7f332d",
      "cfb77e9153644fa7ab09e228deaa2172",
      "59f67ad25702431eb5dcef052d4bd002",
      "0cf6ca215434445587a5920c5a18dbde",
      "7c18fd706a2b4366ba0157e1e09133a7",
      "828f27b81df84bf4be59d53beb1864d1",
      "1047b8265c614ff7aa92017d44ca4a45",
      "513c08163c4b40108c6c32d38c224d2e",
      "05cad06fae63464b80f1977a92f49556",
      "e606b124062c46c9893d13a630805d35",
      "3c8e028e765f420cad7e8511413326d7",
      "02efe9bc95de43e192f0467dbf6d1fb5",
      "cfbfa6fc449f44b3af1c3a8b70501980",
      "a499df6a9f52435190a46e4034d05843",
      "802a5a5a3d9e4844a46dfed9764bad26",
      "59fdb7a4c98d468bb9d41bfc390a1ffa",
      "0ed98a74286747738bb18ca9776dbc6d",
      "f031b7e3039e42b1a21e232d79ae6abf",
      "94c32e8f32f04b1c8ce9a946942dbb29",
      "d17d031ac5d1455b846e2c1f9ee8dfa6",
      "0c2b98fc25e04b7faa8044750475bca5",
      "38009ce5e19f46d6bb0f7c233d20f2b5",
      "9522ff87bb8e4823b3f30855dff12394",
      "6a6c0ee9c55148aa9fff613e81feab3c",
      "1a8bfbd412224f89bb43c056239096a5",
      "33c7754662394f039691498a5adbe876",
      "67038668ead44011b026a536c364cdff",
      "fd193e189ae54c028e14127193fea664",
      "aa29073f5a74427483398eeaaa6d4604",
      "fe14f020c63c4645be46cefc65568b07",
      "f7f0ed00d30a4fbfb165ca35b1cef7a8",
      "1a1617e413204f238ebedbb4dc7a8021",
      "2a73ed796ba5436ab5297d2ac6069943",
      "dff3025696c44fff88cd21983f8fea56",
      "2dc8c7697a69495db8af4c47339d6756",
      "ad627758ac00465abc4179e1a3d7b9d9",
      "751433e0dfa9456a98fdbd955962f0dc",
      "9060981469204f71868c94bccabd4fc4",
      "70fbaa6b7e9441e79f08e8b8c2e3ea42",
      "d71a0c5cf79c4740a6a4060f0cf72082",
      "4c850a22f8004ce4bcd66f228a2fe6d4",
      "2ed41b20e6dd4916a1f7b93175876771",
      "862c289078db4ef684acbb7c47d5f600",
      "f3fb6e7da10a44ddb6e69bdf207d4bd5",
      "deaf3adb502546658f66f6491869a671",
      "a1ad90b06e3e4aa6b2a550f86fdd7c86",
      "b71ed419c3724f299e215b46cbb576d8",
      "9698e20007f04618ac624518dbe5307f",
      "3b6bfe45b9914385948d9f319c0c9dac",
      "34dafdd6f035441c8477e16d6b05cbf5"
     ]
    },
    "id": "Cmll3BZntI88",
    "outputId": "ab8ea4c1-0157-42a9-cafa-39bdc7dd46e0"
   },
   "outputs": [
    {
     "name": "stderr",
     "output_type": "stream",
     "text": [
      "/root/anaconda3/envs/tf1/lib/python3.11/site-packages/huggingface_hub/file_download.py:943: FutureWarning: `resume_download` is deprecated and will be removed in version 1.0.0. Downloads always resume when possible. If you want to force a new download, use `force_download=True`.\n",
      "  warnings.warn(\n"
     ]
    },
    {
     "data": {
      "application/vnd.jupyter.widget-view+json": {
       "model_id": "bbfacd0be2ee4f5799041f9ceeebd14f",
       "version_major": 2,
       "version_minor": 0
      },
      "text/plain": [
       "Loading checkpoint shards:   0%|          | 0/2 [00:00<?, ?it/s]"
      ]
     },
     "metadata": {},
     "output_type": "display_data"
    },
    {
     "data": {
      "application/vnd.jupyter.widget-view+json": {
       "model_id": "baedc75630ad48dcb856dc5464f56bea",
       "version_major": 2,
       "version_minor": 0
      },
      "text/plain": [
       "Quantizing model.decoder.layers blocks :   0%|          | 0/32 [00:00<?, ?it/s]"
      ]
     },
     "metadata": {},
     "output_type": "display_data"
    },
    {
     "data": {
      "application/vnd.jupyter.widget-view+json": {
       "model_id": "ce4954372cda4507aed6d8f6733e3a72",
       "version_major": 2,
       "version_minor": 0
      },
      "text/plain": [
       "Quantizing layers inside the block:   0%|          | 0/6 [00:00<?, ?it/s]"
      ]
     },
     "metadata": {},
     "output_type": "display_data"
    },
    {
     "data": {
      "application/vnd.jupyter.widget-view+json": {
       "model_id": "a2a5403aaf2c4f1d93619d51550a5052",
       "version_major": 2,
       "version_minor": 0
      },
      "text/plain": [
       "Quantizing layers inside the block:   0%|          | 0/6 [00:00<?, ?it/s]"
      ]
     },
     "metadata": {},
     "output_type": "display_data"
    },
    {
     "data": {
      "application/vnd.jupyter.widget-view+json": {
       "model_id": "3b74d4da1f6f43e1b97043cf95d0c572",
       "version_major": 2,
       "version_minor": 0
      },
      "text/plain": [
       "Quantizing layers inside the block:   0%|          | 0/6 [00:00<?, ?it/s]"
      ]
     },
     "metadata": {},
     "output_type": "display_data"
    },
    {
     "data": {
      "application/vnd.jupyter.widget-view+json": {
       "model_id": "60203fe210be4ac8acf894f239e41c72",
       "version_major": 2,
       "version_minor": 0
      },
      "text/plain": [
       "Quantizing layers inside the block:   0%|          | 0/6 [00:00<?, ?it/s]"
      ]
     },
     "metadata": {},
     "output_type": "display_data"
    },
    {
     "data": {
      "application/vnd.jupyter.widget-view+json": {
       "model_id": "3570d68ebdce4a14a3d735a61398a44e",
       "version_major": 2,
       "version_minor": 0
      },
      "text/plain": [
       "Quantizing layers inside the block:   0%|          | 0/6 [00:00<?, ?it/s]"
      ]
     },
     "metadata": {},
     "output_type": "display_data"
    },
    {
     "data": {
      "application/vnd.jupyter.widget-view+json": {
       "model_id": "604c779d0b6e41fdbc05066810e6eda0",
       "version_major": 2,
       "version_minor": 0
      },
      "text/plain": [
       "Quantizing layers inside the block:   0%|          | 0/6 [00:00<?, ?it/s]"
      ]
     },
     "metadata": {},
     "output_type": "display_data"
    },
    {
     "data": {
      "application/vnd.jupyter.widget-view+json": {
       "model_id": "8c26a2b1cac2407ab0f120d4bdba7958",
       "version_major": 2,
       "version_minor": 0
      },
      "text/plain": [
       "Quantizing layers inside the block:   0%|          | 0/6 [00:00<?, ?it/s]"
      ]
     },
     "metadata": {},
     "output_type": "display_data"
    },
    {
     "data": {
      "application/vnd.jupyter.widget-view+json": {
       "model_id": "9b7b482af5f14fa4abb23e12b2c5001e",
       "version_major": 2,
       "version_minor": 0
      },
      "text/plain": [
       "Quantizing layers inside the block:   0%|          | 0/6 [00:00<?, ?it/s]"
      ]
     },
     "metadata": {},
     "output_type": "display_data"
    },
    {
     "data": {
      "application/vnd.jupyter.widget-view+json": {
       "model_id": "70758f7603b14340b1526ac2628f5cb3",
       "version_major": 2,
       "version_minor": 0
      },
      "text/plain": [
       "Quantizing layers inside the block:   0%|          | 0/6 [00:00<?, ?it/s]"
      ]
     },
     "metadata": {},
     "output_type": "display_data"
    },
    {
     "data": {
      "application/vnd.jupyter.widget-view+json": {
       "model_id": "f487a3127acb4117b9ae1137721b4d63",
       "version_major": 2,
       "version_minor": 0
      },
      "text/plain": [
       "Quantizing layers inside the block:   0%|          | 0/6 [00:00<?, ?it/s]"
      ]
     },
     "metadata": {},
     "output_type": "display_data"
    },
    {
     "data": {
      "application/vnd.jupyter.widget-view+json": {
       "model_id": "f7e16730919948ed83150bc84ff190ee",
       "version_major": 2,
       "version_minor": 0
      },
      "text/plain": [
       "Quantizing layers inside the block:   0%|          | 0/6 [00:00<?, ?it/s]"
      ]
     },
     "metadata": {},
     "output_type": "display_data"
    },
    {
     "data": {
      "application/vnd.jupyter.widget-view+json": {
       "model_id": "533aa10f19a44456becba5e4a37980dc",
       "version_major": 2,
       "version_minor": 0
      },
      "text/plain": [
       "Quantizing layers inside the block:   0%|          | 0/6 [00:00<?, ?it/s]"
      ]
     },
     "metadata": {},
     "output_type": "display_data"
    },
    {
     "data": {
      "application/vnd.jupyter.widget-view+json": {
       "model_id": "50a1a1b3ae19434395380e41351c1327",
       "version_major": 2,
       "version_minor": 0
      },
      "text/plain": [
       "Quantizing layers inside the block:   0%|          | 0/6 [00:00<?, ?it/s]"
      ]
     },
     "metadata": {},
     "output_type": "display_data"
    },
    {
     "data": {
      "application/vnd.jupyter.widget-view+json": {
       "model_id": "3966b2f563c44e0ba561a6b35fa2dcff",
       "version_major": 2,
       "version_minor": 0
      },
      "text/plain": [
       "Quantizing layers inside the block:   0%|          | 0/6 [00:00<?, ?it/s]"
      ]
     },
     "metadata": {},
     "output_type": "display_data"
    },
    {
     "data": {
      "application/vnd.jupyter.widget-view+json": {
       "model_id": "f0b2359867c54e41a1780935f697714d",
       "version_major": 2,
       "version_minor": 0
      },
      "text/plain": [
       "Quantizing layers inside the block:   0%|          | 0/6 [00:00<?, ?it/s]"
      ]
     },
     "metadata": {},
     "output_type": "display_data"
    },
    {
     "data": {
      "application/vnd.jupyter.widget-view+json": {
       "model_id": "b51c2a9198cc4dce86412d86ec8470f8",
       "version_major": 2,
       "version_minor": 0
      },
      "text/plain": [
       "Quantizing layers inside the block:   0%|          | 0/6 [00:00<?, ?it/s]"
      ]
     },
     "metadata": {},
     "output_type": "display_data"
    },
    {
     "data": {
      "application/vnd.jupyter.widget-view+json": {
       "model_id": "ef9707ea6dc144b088e7139b980dc7de",
       "version_major": 2,
       "version_minor": 0
      },
      "text/plain": [
       "Quantizing layers inside the block:   0%|          | 0/6 [00:00<?, ?it/s]"
      ]
     },
     "metadata": {},
     "output_type": "display_data"
    },
    {
     "data": {
      "application/vnd.jupyter.widget-view+json": {
       "model_id": "c134d5066950422cb88de870cd562fdf",
       "version_major": 2,
       "version_minor": 0
      },
      "text/plain": [
       "Quantizing layers inside the block:   0%|          | 0/6 [00:00<?, ?it/s]"
      ]
     },
     "metadata": {},
     "output_type": "display_data"
    },
    {
     "data": {
      "application/vnd.jupyter.widget-view+json": {
       "model_id": "2585d0eab0f74d5496f71e1c6ba1a607",
       "version_major": 2,
       "version_minor": 0
      },
      "text/plain": [
       "Quantizing layers inside the block:   0%|          | 0/6 [00:00<?, ?it/s]"
      ]
     },
     "metadata": {},
     "output_type": "display_data"
    },
    {
     "data": {
      "application/vnd.jupyter.widget-view+json": {
       "model_id": "405fcfd60ecc4c53ae5ead3fe46b7041",
       "version_major": 2,
       "version_minor": 0
      },
      "text/plain": [
       "Quantizing layers inside the block:   0%|          | 0/6 [00:00<?, ?it/s]"
      ]
     },
     "metadata": {},
     "output_type": "display_data"
    },
    {
     "data": {
      "application/vnd.jupyter.widget-view+json": {
       "model_id": "6cb690b9231a46fe9747c758123c66e9",
       "version_major": 2,
       "version_minor": 0
      },
      "text/plain": [
       "Quantizing layers inside the block:   0%|          | 0/6 [00:00<?, ?it/s]"
      ]
     },
     "metadata": {},
     "output_type": "display_data"
    },
    {
     "data": {
      "application/vnd.jupyter.widget-view+json": {
       "model_id": "c2f91901ab8d41148cd1664b4a295a2c",
       "version_major": 2,
       "version_minor": 0
      },
      "text/plain": [
       "Quantizing layers inside the block:   0%|          | 0/6 [00:00<?, ?it/s]"
      ]
     },
     "metadata": {},
     "output_type": "display_data"
    },
    {
     "data": {
      "application/vnd.jupyter.widget-view+json": {
       "model_id": "36cbff0c680c4e84911a3cdd6775f0ec",
       "version_major": 2,
       "version_minor": 0
      },
      "text/plain": [
       "Quantizing layers inside the block:   0%|          | 0/6 [00:00<?, ?it/s]"
      ]
     },
     "metadata": {},
     "output_type": "display_data"
    },
    {
     "data": {
      "application/vnd.jupyter.widget-view+json": {
       "model_id": "29bd2fc212294ebab4e24edb8573b10d",
       "version_major": 2,
       "version_minor": 0
      },
      "text/plain": [
       "Quantizing layers inside the block:   0%|          | 0/6 [00:00<?, ?it/s]"
      ]
     },
     "metadata": {},
     "output_type": "display_data"
    },
    {
     "data": {
      "application/vnd.jupyter.widget-view+json": {
       "model_id": "74793bc2f7cf41339f51f2b909af954a",
       "version_major": 2,
       "version_minor": 0
      },
      "text/plain": [
       "Quantizing layers inside the block:   0%|          | 0/6 [00:00<?, ?it/s]"
      ]
     },
     "metadata": {},
     "output_type": "display_data"
    },
    {
     "data": {
      "application/vnd.jupyter.widget-view+json": {
       "model_id": "bee574ac1b4d4ab5979ae5c63e6d0581",
       "version_major": 2,
       "version_minor": 0
      },
      "text/plain": [
       "Quantizing layers inside the block:   0%|          | 0/6 [00:00<?, ?it/s]"
      ]
     },
     "metadata": {},
     "output_type": "display_data"
    },
    {
     "data": {
      "application/vnd.jupyter.widget-view+json": {
       "model_id": "9c3f4d0cf0a6415885fde5890760029f",
       "version_major": 2,
       "version_minor": 0
      },
      "text/plain": [
       "Quantizing layers inside the block:   0%|          | 0/6 [00:00<?, ?it/s]"
      ]
     },
     "metadata": {},
     "output_type": "display_data"
    },
    {
     "data": {
      "application/vnd.jupyter.widget-view+json": {
       "model_id": "64e0e8d1b76d4d1facc8627379dcc4f7",
       "version_major": 2,
       "version_minor": 0
      },
      "text/plain": [
       "Quantizing layers inside the block:   0%|          | 0/6 [00:00<?, ?it/s]"
      ]
     },
     "metadata": {},
     "output_type": "display_data"
    },
    {
     "data": {
      "application/vnd.jupyter.widget-view+json": {
       "model_id": "efdf4b1058ab42e38eefded1f13262ce",
       "version_major": 2,
       "version_minor": 0
      },
      "text/plain": [
       "Quantizing layers inside the block:   0%|          | 0/6 [00:00<?, ?it/s]"
      ]
     },
     "metadata": {},
     "output_type": "display_data"
    },
    {
     "data": {
      "application/vnd.jupyter.widget-view+json": {
       "model_id": "773ff8a95fe34bd583747098667a55c0",
       "version_major": 2,
       "version_minor": 0
      },
      "text/plain": [
       "Quantizing layers inside the block:   0%|          | 0/6 [00:00<?, ?it/s]"
      ]
     },
     "metadata": {},
     "output_type": "display_data"
    },
    {
     "data": {
      "application/vnd.jupyter.widget-view+json": {
       "model_id": "3f824c80cc484de3abc6490ea785e940",
       "version_major": 2,
       "version_minor": 0
      },
      "text/plain": [
       "Quantizing layers inside the block:   0%|          | 0/6 [00:00<?, ?it/s]"
      ]
     },
     "metadata": {},
     "output_type": "display_data"
    },
    {
     "data": {
      "application/vnd.jupyter.widget-view+json": {
       "model_id": "5da9c14ca1104b09b833d5944c66da2d",
       "version_major": 2,
       "version_minor": 0
      },
      "text/plain": [
       "Quantizing layers inside the block:   0%|          | 0/6 [00:00<?, ?it/s]"
      ]
     },
     "metadata": {},
     "output_type": "display_data"
    }
   ],
   "source": [
    "from transformers import AutoModelForCausalLM, GPTQConfig, AutoTokenizer\n",
    "\n",
    "model_name_or_path = \"facebook/opt-6.7b\"\n",
    "custom_dataset = [\"auto-gptq is an easy-to-use model quantization library with user-friendly apis, based on GPTQ algorithm.\"]\n",
    "\n",
    "custom_quantization_config = GPTQConfig(\n",
    "    bits=4,\n",
    "    group_size=128,\n",
    "    desc_act=False,\n",
    "    dataset=custom_dataset\n",
    ")\n",
    "\n",
    "custom_quant_model = AutoModelForCausalLM.from_pretrained(model_name_or_path,\n",
    "                                                          quantization_config=custom_quantization_config,\n",
    "                                                          torch_dtype=torch.float16,\n",
    "                                                          device_map=\"auto\")"
   ]
  },
  {
   "cell_type": "markdown",
   "metadata": {
    "id": "BAWDL4Vr-8T2"
   },
   "source": [
    "相比使用默认数据集，未经精心准备的自定义数据集会明显降低模型性能"
   ]
  },
  {
   "cell_type": "code",
   "execution_count": 10,
   "metadata": {
    "colab": {
     "base_uri": "https://localhost:8080/"
    },
    "id": "N6yeN0zcxUGg",
    "outputId": "175ba704-c55d-44f1-e8df-34b52aaf7318"
   },
   "outputs": [
    {
     "name": "stdout",
     "output_type": "stream",
     "text": [
      "Merry Christmas! I'm glad to be.\n",
      " to. to. to. to. to. to. to. to. to. to. to. to. to. to. to. to. to. to. to. to. to. to. to. to. to. to. to. to. to. to. to\n"
     ]
    }
   ],
   "source": [
    "text = \"Merry Christmas! I'm glad to\"\n",
    "inputs = tokenizer(text, return_tensors=\"pt\").to(0)\n",
    "\n",
    "out = custom_quant_model.generate(**inputs, max_new_tokens=64)\n",
    "print(tokenizer.decode(out[0], skip_special_tokens=True))"
   ]
  },
  {
   "cell_type": "code",
   "execution_count": null,
   "metadata": {},
   "outputs": [],
   "source": []
  }
 ],
 "metadata": {
  "accelerator": "GPU",
  "colab": {
   "gpuType": "T4",
   "provenance": []
  },
  "kernelspec": {
   "display_name": "Python 3 (ipykernel)",
   "language": "python",
   "name": "python3"
  },
  "language_info": {
   "codemirror_mode": {
    "name": "ipython",
    "version": 3
   },
   "file_extension": ".py",
   "mimetype": "text/x-python",
   "name": "python",
   "nbconvert_exporter": "python",
   "pygments_lexer": "ipython3",
   "version": "3.11.13"
  }
 },
 "nbformat": 4,
 "nbformat_minor": 4
}
